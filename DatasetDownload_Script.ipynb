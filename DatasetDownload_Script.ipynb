{
 "cells": [
  {
   "cell_type": "code",
   "execution_count": 1,
   "metadata": {},
   "outputs": [
    {
     "data": {
      "text/plain": [
       "45622278"
      ]
     },
     "execution_count": 1,
     "metadata": {},
     "output_type": "execute_result"
    }
   ],
   "source": [
    "import requests\n",
    "\n",
    "datasetUrl = 'https://archive.ics.uci.edu/ml/machine-learning-databases/00502/online_retail_II.xlsx'\n",
    "\n",
    "mydatafile = requests.get(datasetUrl)\n",
    "\n",
    "LocalDownLoadPath = 'C:/SpringBoard-DataEngineer/Datasets/Download/retail_dataset.xlsx'\n",
    "\n",
    "open(LocalDownLoadPath, 'wb').write(mydatafile.content)"
   ]
  }
 ],
 "metadata": {
  "kernelspec": {
   "display_name": "Python 3",
   "language": "python",
   "name": "python3"
  },
  "language_info": {
   "codemirror_mode": {
    "name": "ipython",
    "version": 3
   },
   "file_extension": ".py",
   "mimetype": "text/x-python",
   "name": "python",
   "nbconvert_exporter": "python",
   "pygments_lexer": "ipython3",
   "version": "3.8.3"
  }
 },
 "nbformat": 4,
 "nbformat_minor": 4
}
