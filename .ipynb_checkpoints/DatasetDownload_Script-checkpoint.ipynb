{
 "cells": [
  {
   "cell_type": "code",
   "execution_count": 8,
   "metadata": {},
   "outputs": [],
   "source": [
    "import requests\n",
    "\n",
    "class datasetDownload:\n",
    "    \n",
    "    def __init__(self):\n",
    "        # To get the total number of the files downloaded\n",
    "        self.file_download_cnt = 0\n",
    "    \n",
    "    def downloadFile(self,sourcePath : str,sourceFile : str,targetPath : str)->bool:\n",
    "        \"\"\"\n",
    "        Download a file from a particular website\n",
    "        Parameters\n",
    "        ----------\n",
    "        sourcePath : string\n",
    "            source Path of the file \n",
    "        sourceFile: string\n",
    "            file to be downloaded from the source path\n",
    "        targetPath : string\n",
    "            Path where the downloaded file should be placed\n",
    "        Returns\n",
    "        -------\n",
    "        bool\n",
    "            True if successful, False otherwise\n",
    "        \"\"\" \n",
    "        \n",
    "        try:\n",
    "            \n",
    "            fileURL = sourcePath + \"/\" + sourceFile\n",
    "            mydatafile = requests.get(fileURL)\n",
    "            \n",
    "            targetfile = targetPath + \"/\" + sourceFile\n",
    "            \n",
    "            open(targetfile, 'wb').write(mydatafile.content)\n",
    "            self.file_download_cnt += 1\n",
    "            return True\n",
    "        \n",
    "        except Exception as e:\n",
    "            print(\"Download failed\")\n",
    "            return False"
   ]
  },
  {
   "cell_type": "code",
   "execution_count": 10,
   "metadata": {},
   "outputs": [
    {
     "name": "stdout",
     "output_type": "stream",
     "text": [
      "True\n"
     ]
    }
   ],
   "source": [
    "datasetUrl = 'https://archive.ics.uci.edu/ml/machine-learning-databases/00502'\n",
    "datasetFile = \"online_retail_II.xlsx\"\n",
    "LocalDownLoadPath = 'C:/SpringBoard-DataEngineer/Datasets/Download'\n",
    "\n",
    "d = datasetDownload()\n",
    "print(d.downloadFile(datasetUrl,datasetFile,LocalDownLoadPath))"
   ]
  },
  {
   "cell_type": "code",
   "execution_count": null,
   "metadata": {},
   "outputs": [],
   "source": []
  }
 ],
 "metadata": {
  "kernelspec": {
   "display_name": "Python 3",
   "language": "python",
   "name": "python3"
  },
  "language_info": {
   "codemirror_mode": {
    "name": "ipython",
    "version": 3
   },
   "file_extension": ".py",
   "mimetype": "text/x-python",
   "name": "python",
   "nbconvert_exporter": "python",
   "pygments_lexer": "ipython3",
   "version": "3.8.3"
  }
 },
 "nbformat": 4,
 "nbformat_minor": 4
}
